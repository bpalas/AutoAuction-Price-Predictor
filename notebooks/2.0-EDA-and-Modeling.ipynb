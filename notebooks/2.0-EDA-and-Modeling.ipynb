{
 "cells": [
  {
   "cell_type": "markdown",
   "id": "c97cdb6e",
   "metadata": {},
   "source": [
    "# 3.0 - Comparación de Modelos: Datos Básicos vs. Datos Enriquecidos\n",
    "\n",
    "**Objetivo:** Este notebook tiene como finalidad comparar el rendimiento de un modelo de Machine Learning entrenado con dos conjuntos de datos diferentes:\n",
    "\n",
    "1.  **Modelo 1 (Básico):** Utiliza `karcal_data_cleaned_raw.csv`, que contiene los datos limpios pero sin las características adicionales de estado, historial, multas, etc.\n",
    "2.  **Modelo 2 (Enriquecido):** Utiliza `karcal_data_cleaned.csv`, el cual fue procesado con el script `clean_data.py` y contiene todas las características nuevas.\n",
    "\n",
    "El objetivo es medir con métricas como el **Error Absoluto Medio (MAE)** y el **Coeficiente de Determinación (R²)** si el proceso de enriquecimiento de datos resultó en un modelo más preciso para predecir la `oferta_ganadora`."
   ]
  },
  {
   "cell_type": "code",
   "execution_count": 1,
   "id": "9e5c1942",
   "metadata": {},
   "outputs": [],
   "source": [
    "import pandas as pd\n",
    "import numpy as np\n",
    "import matplotlib.pyplot as plt\n",
    "import seaborn as sns\n",
    "\n",
    "from sklearn.model_selection import train_test_split\n",
    "from sklearn.compose import ColumnTransformer\n",
    "from sklearn.pipeline import Pipeline\n",
    "from sklearn.preprocessing import StandardScaler, OneHotEncoder\n",
    "from sklearn.ensemble import RandomForestRegressor\n",
    "from sklearn.metrics import mean_absolute_error, r2_score\n",
    "\n",
    "# --- Configuración de Visualización ---\n",
    "pd.options.display.float_format = lambda x: f'{x:,.0f}'.replace(',', '.')\n",
    "%matplotlib inline\n",
    "sns.set_style('whitegrid')\n",
    "plt.rcParams['figure.figsize'] = (12, 6)"
   ]
  },
  {
   "cell_type": "markdown",
   "id": "2e17d626",
   "metadata": {},
   "source": [
    "## Modelo 1: Datos Limpios Básicos (sin enriquecimiento)\n",
    "\n",
    "Primero, cargamos y entrenamos el modelo usando el archivo CSV con la limpieza básica, que no incluye las columnas de estado legal, condición física, etc."
   ]
  },
  {
   "cell_type": "code",
   "execution_count": 2,
   "id": "7f25545a",
   "metadata": {},
   "outputs": [
    {
     "name": "stdout",
     "output_type": "stream",
     "text": [
      "Datos básicos cargados desde: ../data/clean/karcal_data_cleaned_raw.csv\n",
      "\n",
      "Entrenando Modelo 1 (Básico)...\n",
      "--- Resultados del Modelo 1 (Básico) ---\n",
      "Error Absoluto Medio (MAE): $1,316,000\n",
      "Coeficiente de Determinación (R²): 0.6737\n"
     ]
    }
   ],
   "source": [
    "# --- Cargar Datos Limpios Básicos ---\n",
    "file_path_raw = '../data/clean/karcal_data_cleaned_raw.csv'\n",
    "try:\n",
    "    df_raw = pd.read_csv(file_path_raw)\n",
    "    print(f\"Datos básicos cargados desde: {file_path_raw}\")\n",
    "except FileNotFoundError:\n",
    "    print(f\"Error: No se encontró el archivo {file_path_raw}. Asegúrate de que exista.\")\n",
    "\n",
    "# --- Preparación del Modelo 1 ---\n",
    "features_raw = [\n",
    "    'antiguedad', 'kilometraje', 'cilindrada', 'visitas', \n",
    "    'numero_pujas', 'valor_inicial', 'marca', 'transmisión', 'combustible'\n",
    "]\n",
    "target = 'oferta_ganadora'\n",
    "\n",
    "df_model_raw = df_raw.dropna(subset=features_raw + [target])\n",
    "X_raw = df_model_raw[features_raw]\n",
    "y_raw = df_model_raw[target]\n",
    "\n",
    "X_train_raw, X_test_raw, y_train_raw, y_test_raw = train_test_split(X_raw, y_raw, test_size=0.2, random_state=42)\n",
    "\n",
    "# Preprocesador para el modelo básico\n",
    "numeric_features_raw = X_raw.select_dtypes(include=np.number).columns.tolist()\n",
    "categorical_features_raw = X_raw.select_dtypes(include=['object']).columns.tolist()\n",
    "\n",
    "preprocessor_raw = ColumnTransformer(\n",
    "    transformers=[\n",
    "        ('num', StandardScaler(), numeric_features_raw),\n",
    "        ('cat', OneHotEncoder(handle_unknown='ignore'), categorical_features_raw)\n",
    "    ])\n",
    "\n",
    "# Pipeline del Modelo 1\n",
    "model_raw = Pipeline(steps=[\n",
    "    ('preprocessor', preprocessor_raw),\n",
    "    ('regressor', RandomForestRegressor(n_estimators=100, random_state=42))\n",
    "])\n",
    "\n",
    "# Entrenamiento y Evaluación del Modelo 1\n",
    "print(\"\\nEntrenando Modelo 1 (Básico)...\")\n",
    "model_raw.fit(X_train_raw, y_train_raw)\n",
    "y_pred_raw = model_raw.predict(X_test_raw)\n",
    "\n",
    "mae_raw = mean_absolute_error(y_test_raw, y_pred_raw)\n",
    "r2_raw = r2_score(y_test_raw, y_pred_raw)\n",
    "\n",
    "print(\"--- Resultados del Modelo 1 (Básico) ---\")\n",
    "print(f\"Error Absoluto Medio (MAE): ${mae_raw:,.0f}\")\n",
    "print(f\"Coeficiente de Determinación (R²): {r2_raw:.4f}\")"
   ]
  },
  {
   "cell_type": "markdown",
   "id": "bfb4dab9",
   "metadata": {},
   "source": [
    "## Modelo 2: Datos Limpios Enriquecidos\n",
    "\n",
    "Ahora, repetimos el proceso exactamente igual, pero utilizando el archivo CSV que contiene todas las características adicionales generadas por el script de limpieza."
   ]
  },
  {
   "cell_type": "code",
   "execution_count": 3,
   "id": "3f2ceeb3",
   "metadata": {},
   "outputs": [
    {
     "name": "stdout",
     "output_type": "stream",
     "text": [
      "Datos enriquecidos cargados desde: ../data/clean/karcal_data_cleaned.csv\n",
      "\n",
      "Entrenando Modelo 2 (Enriquecido)...\n",
      "--- Resultados del Modelo 2 (Enriquecido) ---\n",
      "Error Absoluto Medio (MAE): $561\n",
      "Coeficiente de Determinación (R²): 1.0000\n"
     ]
    }
   ],
   "source": [
    "# --- Cargar Datos Limpios Enriquecidos ---\n",
    "file_path_enriched = '../data/clean/karcal_data_cleaned.csv'\n",
    "try:\n",
    "    df_enriched = pd.read_csv(file_path_enriched)\n",
    "    print(f\"Datos enriquecidos cargados desde: {file_path_enriched}\")\n",
    "except FileNotFoundError:\n",
    "    print(f\"Error: No se encontró el archivo {file_path_enriched}.\")\n",
    "\n",
    "# --- Preparación del Modelo 2 ---\n",
    "features_enriched = [\n",
    "    'antiguedad', 'kilometraje', 'cilindrada', 'visitas', 'numero_pujas',\n",
    "    'valor_inicial', 'numero_propietarios', 'meses_dueño_actual',\n",
    "    'funciona', 'tiene_llaves', 'tiene_multas', 'monto_multas_utm',\n",
    "    'marca', 'transmisión', 'combustible', 'tracción', 'mandante'\n",
    "]\n",
    "# Asegurarnos de que todas las columnas existan en el DataFrame\n",
    "features_enriched = [f for f in features_enriched if f in df_enriched.columns]\n",
    "\n",
    "\n",
    "df_model_enriched = df_enriched.dropna(subset=features_enriched + [target])\n",
    "X_enriched = df_model_enriched[features_enriched]\n",
    "y_enriched = df_model_enriched[target]\n",
    "\n",
    "X_train_enriched, X_test_enriched, y_train_enriched, y_test_enriched = train_test_split(X_enriched, y_enriched, test_size=0.2, random_state=42)\n",
    "\n",
    "# Preprocesador para el modelo enriquecido\n",
    "numeric_features_enriched = X_enriched.select_dtypes(include=np.number).columns.tolist()\n",
    "categorical_features_enriched = X_enriched.select_dtypes(include=['object']).columns.tolist()\n",
    "\n",
    "preprocessor_enriched = ColumnTransformer(\n",
    "    transformers=[\n",
    "        ('num', StandardScaler(), numeric_features_enriched),\n",
    "        ('cat', OneHotEncoder(handle_unknown='ignore'), categorical_features_enriched)\n",
    "    ],\n",
    "    remainder='passthrough'\n",
    ")\n",
    "\n",
    "# Pipeline del Modelo 2\n",
    "model_enriched = Pipeline(steps=[\n",
    "    ('preprocessor', preprocessor_enriched),\n",
    "    ('regressor', RandomForestRegressor(n_estimators=100, random_state=42))\n",
    "])\n",
    "\n",
    "# Entrenamiento y Evaluación del Modelo 2\n",
    "print(\"\\nEntrenando Modelo 2 (Enriquecido)...\")\n",
    "model_enriched.fit(X_train_enriched, y_train_enriched)\n",
    "y_pred_enriched = model_enriched.predict(X_test_enriched)\n",
    "\n",
    "mae_enriched = mean_absolute_error(y_test_enriched, y_pred_enriched)\n",
    "r2_enriched = r2_score(y_test_enriched, y_pred_enriched)\n",
    "\n",
    "print(\"--- Resultados del Modelo 2 (Enriquecido) ---\")\n",
    "print(f\"Error Absoluto Medio (MAE): ${mae_enriched:,.0f}\")\n",
    "print(f\"Coeficiente de Determinación (R²): {r2_enriched:.4f}\")"
   ]
  },
  {
   "cell_type": "markdown",
   "id": "28c863ca",
   "metadata": {},
   "source": [
    "## 3. Comparación de Resultados y Conclusión"
   ]
  },
  {
   "cell_type": "code",
   "execution_count": 4,
   "id": "abb051bf",
   "metadata": {},
   "outputs": [
    {
     "name": "stdout",
     "output_type": "stream",
     "text": [
      "--- Tabla Comparativa de Rendimiento ---\n"
     ]
    },
    {
     "data": {
      "application/vnd.microsoft.datawrangler.viewer.v0+json": {
       "columns": [
        {
         "name": "Métrica",
         "rawType": "object",
         "type": "string"
        },
        {
         "name": "Modelo Básico (raw)",
         "rawType": "object",
         "type": "string"
        },
        {
         "name": "Modelo Enriquecido",
         "rawType": "object",
         "type": "string"
        }
       ],
       "ref": "9edc13df-1832-449f-ade2-5cadd865897e",
       "rows": [
        [
         "Error Absoluto Medio (MAE)",
         "$1,316,000",
         "$561"
        ],
        [
         "Coeficiente de Determinación (R²)",
         "0.6737",
         "1.0000"
        ]
       ],
       "shape": {
        "columns": 2,
        "rows": 2
       }
      },
      "text/html": [
       "<div>\n",
       "<style scoped>\n",
       "    .dataframe tbody tr th:only-of-type {\n",
       "        vertical-align: middle;\n",
       "    }\n",
       "\n",
       "    .dataframe tbody tr th {\n",
       "        vertical-align: top;\n",
       "    }\n",
       "\n",
       "    .dataframe thead th {\n",
       "        text-align: right;\n",
       "    }\n",
       "</style>\n",
       "<table border=\"1\" class=\"dataframe\">\n",
       "  <thead>\n",
       "    <tr style=\"text-align: right;\">\n",
       "      <th></th>\n",
       "      <th>Modelo Básico (raw)</th>\n",
       "      <th>Modelo Enriquecido</th>\n",
       "    </tr>\n",
       "    <tr>\n",
       "      <th>Métrica</th>\n",
       "      <th></th>\n",
       "      <th></th>\n",
       "    </tr>\n",
       "  </thead>\n",
       "  <tbody>\n",
       "    <tr>\n",
       "      <th>Error Absoluto Medio (MAE)</th>\n",
       "      <td>$1,316,000</td>\n",
       "      <td>$561</td>\n",
       "    </tr>\n",
       "    <tr>\n",
       "      <th>Coeficiente de Determinación (R²)</th>\n",
       "      <td>0.6737</td>\n",
       "      <td>1.0000</td>\n",
       "    </tr>\n",
       "  </tbody>\n",
       "</table>\n",
       "</div>"
      ],
      "text/plain": [
       "                                  Modelo Básico (raw) Modelo Enriquecido\n",
       "Métrica                                                                 \n",
       "Error Absoluto Medio (MAE)                 $1,316,000               $561\n",
       "Coeficiente de Determinación (R²)              0.6737             1.0000"
      ]
     },
     "metadata": {},
     "output_type": "display_data"
    }
   ],
   "source": [
    "# --- Crear un DataFrame para la comparación ---\n",
    "results_df = pd.DataFrame({\n",
    "    'Métrica': ['Error Absoluto Medio (MAE)', 'Coeficiente de Determinación (R²)'],\n",
    "    'Modelo Básico (raw)': [f\"${mae_raw:,.0f}\", f\"{r2_raw:.4f}\"],\n",
    "    'Modelo Enriquecido': [f\"${mae_enriched:,.0f}\", f\"{r2_enriched:.4f}\"]\n",
    "})\n",
    "\n",
    "print(\"--- Tabla Comparativa de Rendimiento ---\")\n",
    "display(results_df.set_index('Métrica'))"
   ]
  },
  {
   "cell_type": "markdown",
   "id": "2bfc2f04",
   "metadata": {},
   "source": [
    "### Conclusión\n",
    "\n",
    "Al analizar la tabla comparativa, se puede observar claramente el impacto del enriquecimiento de datos.\n",
    "\n",
    "* **Error Absoluto Medio (MAE):** El MAE del modelo enriquecido es **[menor/mayor]** que el del modelo básico. Esto significa que, en promedio, las predicciones del nuevo modelo se equivocan en [resta de los MAE] pesos **[menos/más]**. Una reducción del MAE indica una mejora en la precisión.\n",
    "\n",
    "* **Coeficiente de Determinación (R²):** El R² del modelo enriquecido es **[mayor/menor]**. Un R² más cercano a 1 indica que el modelo es capaz de explicar un porcentaje **[mayor/menor]** de la variabilidad del precio de la oferta ganadora.\n",
    "\n",
    "**En resumen, la inclusión de características como el estado funcional del vehículo, su historial de propiedad y la información sobre multas ha [mejorado significativamente / tenido un impacto moderado / no ha mejorado] la capacidad predictiva del modelo.** Esto demuestra el valor de un proceso de limpieza y feature engineering más profundo."
   ]
  },
  {
   "cell_type": "code",
   "execution_count": null,
   "id": "0e3650b9",
   "metadata": {},
   "outputs": [],
   "source": []
  }
 ],
 "metadata": {
  "kernelspec": {
   "display_name": "Python 3",
   "language": "python",
   "name": "python3"
  },
  "language_info": {
   "codemirror_mode": {
    "name": "ipython",
    "version": 3
   },
   "file_extension": ".py",
   "mimetype": "text/x-python",
   "name": "python",
   "nbconvert_exporter": "python",
   "pygments_lexer": "ipython3",
   "version": "3.12.5"
  }
 },
 "nbformat": 4,
 "nbformat_minor": 5
}
